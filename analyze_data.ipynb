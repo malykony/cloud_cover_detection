{
 "cells": [
  {
   "cell_type": "markdown",
   "id": "23c2a1df",
   "metadata": {},
   "source": [
    "# On Cloud N: Cloud Cover Detection Challenge\n",
    "The [DrivenData](https://www.drivendata.org/competitions/83/cloud-cover/) challenge \n",
    "\n",
    "Thanks a lot to https://www.drivendata.co/blog/cloud-cover-benchmark/"
   ]
  },
  {
   "cell_type": "markdown",
   "id": "a0e91a1c",
   "metadata": {},
   "source": [
    "## Overview\n",
    "Satellite imagery is critical for a wide variety of applications from disaster management and recovery, to agriculture, to military intelligence. Clouds present a major obstacle for all of these use cases, and usually have to be identified and removed from a dataset before satellite imagery can be used. Improving methods of identifying clouds can unlock the potential of an unlimited range of satellite imagery use cases, enabling faster, more efficient, and more accurate image-based research."
   ]
  },
  {
   "cell_type": "markdown",
   "id": "5da5b022",
   "metadata": {},
   "source": [
    "The goal is to detect (to label) clouds in satellite imagery to remove cloud interference. The challenge uses publicly available satellite data from the [Sentinel-2 mission](https://sentinel.esa.int/web/sentinel/missions/sentinel-2), which captures wide-swath, high-resolution, multi-spectral imaging. For each tile, data is separated into different bands of light across the full visible spectrum, near-infrared, and infrared light. Data is shared through [Microsoft's Planetary Computer](https://planetarycomputer.microsoft.com/)."
   ]
  },
  {
   "cell_type": "code",
   "execution_count": 1,
   "id": "e7f9d2b6",
   "metadata": {},
   "outputs": [],
   "source": [
    "import shutil\n",
    "\n",
    "import matplotlib.pyplot as plt\n",
    "import numpy as np\n",
    "import pandas as pd\n",
    "from pandas_path import path\n",
    "from pathlib import Path\n",
    "from PIL import Image\n",
    "import pytorch_lightning as pl\n",
    "import torch"
   ]
  },
  {
   "cell_type": "code",
   "execution_count": 2,
   "id": "7e65eba7",
   "metadata": {},
   "outputs": [],
   "source": [
    "DATA_DIR = Path.cwd().parent.resolve() / 'drivenData_clouds/'\n",
    "TRAIN_FEATURES = DATA_DIR / 'data/train_features'\n",
    "TRAIN_LABELS = DATA_DIR / 'data/train_labels'\n",
    "\n",
    "assert TRAIN_FEATURES.exists()"
   ]
  },
  {
   "cell_type": "code",
   "execution_count": 3,
   "id": "f3167244",
   "metadata": {},
   "outputs": [
    {
     "data": {
      "text/html": [
       "<div>\n",
       "<style scoped>\n",
       "    .dataframe tbody tr th:only-of-type {\n",
       "        vertical-align: middle;\n",
       "    }\n",
       "\n",
       "    .dataframe tbody tr th {\n",
       "        vertical-align: top;\n",
       "    }\n",
       "\n",
       "    .dataframe thead th {\n",
       "        text-align: right;\n",
       "    }\n",
       "</style>\n",
       "<table border=\"1\" class=\"dataframe\">\n",
       "  <thead>\n",
       "    <tr style=\"text-align: right;\">\n",
       "      <th></th>\n",
       "      <th>chip_id</th>\n",
       "      <th>location</th>\n",
       "      <th>datetime</th>\n",
       "      <th>cloudpath</th>\n",
       "    </tr>\n",
       "  </thead>\n",
       "  <tbody>\n",
       "    <tr>\n",
       "      <th>0</th>\n",
       "      <td>adwp</td>\n",
       "      <td>Chifunfu</td>\n",
       "      <td>2020-04-29T08:20:47Z</td>\n",
       "      <td>az://./train_features/adwp</td>\n",
       "    </tr>\n",
       "    <tr>\n",
       "      <th>1</th>\n",
       "      <td>adwu</td>\n",
       "      <td>Chifunfu</td>\n",
       "      <td>2020-04-29T08:20:47Z</td>\n",
       "      <td>az://./train_features/adwu</td>\n",
       "    </tr>\n",
       "    <tr>\n",
       "      <th>2</th>\n",
       "      <td>adwz</td>\n",
       "      <td>Chifunfu</td>\n",
       "      <td>2020-04-29T08:20:47Z</td>\n",
       "      <td>az://./train_features/adwz</td>\n",
       "    </tr>\n",
       "    <tr>\n",
       "      <th>3</th>\n",
       "      <td>adxp</td>\n",
       "      <td>Chifunfu</td>\n",
       "      <td>2020-04-29T08:20:47Z</td>\n",
       "      <td>az://./train_features/adxp</td>\n",
       "    </tr>\n",
       "    <tr>\n",
       "      <th>4</th>\n",
       "      <td>aeaj</td>\n",
       "      <td>Chifunfu</td>\n",
       "      <td>2020-04-29T08:20:47Z</td>\n",
       "      <td>az://./train_features/aeaj</td>\n",
       "    </tr>\n",
       "  </tbody>\n",
       "</table>\n",
       "</div>"
      ],
      "text/plain": [
       "  chip_id  location              datetime                   cloudpath\n",
       "0    adwp  Chifunfu  2020-04-29T08:20:47Z  az://./train_features/adwp\n",
       "1    adwu  Chifunfu  2020-04-29T08:20:47Z  az://./train_features/adwu\n",
       "2    adwz  Chifunfu  2020-04-29T08:20:47Z  az://./train_features/adwz\n",
       "3    adxp  Chifunfu  2020-04-29T08:20:47Z  az://./train_features/adxp\n",
       "4    aeaj  Chifunfu  2020-04-29T08:20:47Z  az://./train_features/aeaj"
      ]
     },
     "execution_count": 3,
     "metadata": {},
     "output_type": "execute_result"
    }
   ],
   "source": [
    "BANDS = ['B02', 'B03', 'B04', 'B08'] #different range of wavelengths (aka bands) blue/green/red/infrared\n",
    "\n",
    "# Metadata\n",
    "train_meta = pd.read_csv(DATA_DIR / 'train_metadata.csv')\n",
    "train_meta.head()"
   ]
  },
  {
   "cell_type": "code",
   "execution_count": 4,
   "id": "fd562657",
   "metadata": {},
   "outputs": [
    {
     "data": {
      "text/plain": [
       "chip_id     11748\n",
       "location       81\n",
       "datetime       91\n",
       "dtype: int64"
      ]
     },
     "execution_count": 4,
     "metadata": {},
     "output_type": "execute_result"
    }
   ],
   "source": [
    "train_meta[['chip_id', 'location', 'datetime']].nunique()"
   ]
  },
  {
   "cell_type": "code",
   "execution_count": 5,
   "id": "6c8b31b7",
   "metadata": {},
   "outputs": [
    {
     "data": {
      "image/png": "[encoded data removed]",
      "text/plain": [
       "<Figure size 864x288 with 1 Axes>"
      ]
     },
     "metadata": {
      "needs_background": "light"
     },
     "output_type": "display_data"
    }
   ],
   "source": [
    "# graph of locations x number of chips\n",
    "train_location_counts = (train_meta.groupby('location')['chip_id'].nunique().sort_values(ascending=False))\n",
    "plt.figure(figsize=(12,4))\n",
    "train_location_counts.head(25).plot(kind='bar', color='lightgray')\n",
    "plt.xticks(rotation=90)\n",
    "plt.xlabel('Location')\n",
    "plt.ylabel('Number of chips')\n",
    "plt.title('Number of Train chips by Location (Top 25)')\n",
    "plt.show()"
   ]
  },
  {
   "cell_type": "code",
   "execution_count": 6,
   "id": "db76f128",
   "metadata": {},
   "outputs": [
    {
     "data": {
      "text/html": [
       "<div>\n",
       "<style scoped>\n",
       "    .dataframe tbody tr th:only-of-type {\n",
       "        vertical-align: middle;\n",
       "    }\n",
       "\n",
       "    .dataframe tbody tr th {\n",
       "        vertical-align: top;\n",
       "    }\n",
       "\n",
       "    .dataframe thead th {\n",
       "        text-align: right;\n",
       "    }\n",
       "</style>\n",
       "<table border=\"1\" class=\"dataframe\">\n",
       "  <thead>\n",
       "    <tr style=\"text-align: right;\">\n",
       "      <th></th>\n",
       "      <th>chip_count</th>\n",
       "    </tr>\n",
       "    <tr>\n",
       "      <th>year</th>\n",
       "      <th></th>\n",
       "    </tr>\n",
       "  </thead>\n",
       "  <tbody>\n",
       "    <tr>\n",
       "      <th>2018</th>\n",
       "      <td>326</td>\n",
       "    </tr>\n",
       "    <tr>\n",
       "      <th>2019</th>\n",
       "      <td>1015</td>\n",
       "    </tr>\n",
       "    <tr>\n",
       "      <th>2020</th>\n",
       "      <td>10407</td>\n",
       "    </tr>\n",
       "  </tbody>\n",
       "</table>\n",
       "</div>"
      ],
      "text/plain": [
       "      chip_count\n",
       "year            \n",
       "2018         326\n",
       "2019        1015\n",
       "2020       10407"
      ]
     },
     "execution_count": 6,
     "metadata": {},
     "output_type": "execute_result"
    }
   ],
   "source": [
    "# time range\n",
    "train_meta['datetime'] = pd.to_datetime(train_meta['datetime'])\n",
    "train_meta['year'] = train_meta.datetime.dt.year\n",
    "train_meta.groupby('year')[['chip_id']].nunique().sort_index().rename(columns={'chip_id' : 'chip_count'})"
   ]
  },
  {
   "cell_type": "markdown",
   "id": "456e5c6e",
   "metadata": {},
   "source": [
    "We can read this from problem description but to be sure let's find out the date range."
   ]
  },
  {
   "cell_type": "code",
   "execution_count": 7,
   "id": "4e1cc3ef",
   "metadata": {},
   "outputs": [
    {
     "data": {
      "text/plain": [
       "(Timestamp('2018-03-07 08:46:02+0000', tz='UTC'),\n",
       " Timestamp('2020-09-14 08:28:49+0000', tz='UTC'))"
      ]
     },
     "execution_count": 7,
     "metadata": {},
     "output_type": "execute_result"
    }
   ],
   "source": [
    "train_meta['datetime'].min(), train_meta['datetime'].max()"
   ]
  },
  {
   "cell_type": "code",
   "execution_count": 8,
   "id": "26433db7",
   "metadata": {},
   "outputs": [
    {
     "data": {
      "text/html": [
       "<div>\n",
       "<style scoped>\n",
       "    .dataframe tbody tr th:only-of-type {\n",
       "        vertical-align: middle;\n",
       "    }\n",
       "\n",
       "    .dataframe tbody tr th {\n",
       "        vertical-align: top;\n",
       "    }\n",
       "\n",
       "    .dataframe thead th {\n",
       "        text-align: right;\n",
       "    }\n",
       "</style>\n",
       "<table border=\"1\" class=\"dataframe\">\n",
       "  <thead>\n",
       "    <tr style=\"text-align: right;\">\n",
       "      <th></th>\n",
       "      <th></th>\n",
       "      <th>chip_count</th>\n",
       "    </tr>\n",
       "    <tr>\n",
       "      <th>location</th>\n",
       "      <th>datetime</th>\n",
       "      <th></th>\n",
       "    </tr>\n",
       "  </thead>\n",
       "  <tbody>\n",
       "    <tr>\n",
       "      <th>South America - Brazil</th>\n",
       "      <th>2020-09-06 15:02:37+00:00</th>\n",
       "      <td>261</td>\n",
       "    </tr>\n",
       "    <tr>\n",
       "      <th>Port Gentil</th>\n",
       "      <th>2020-09-08 09:50:58+00:00</th>\n",
       "      <td>223</td>\n",
       "    </tr>\n",
       "    <tr>\n",
       "      <th>Uganda</th>\n",
       "      <th>2019-04-25 08:29:37+00:00</th>\n",
       "      <td>220</td>\n",
       "    </tr>\n",
       "    <tr>\n",
       "      <th>Australia - Central</th>\n",
       "      <th>2020-08-11 01:24:00+00:00</th>\n",
       "      <td>209</td>\n",
       "    </tr>\n",
       "    <tr>\n",
       "      <th>Malabo</th>\n",
       "      <th>2020-09-06 10:00:03+00:00</th>\n",
       "      <td>206</td>\n",
       "    </tr>\n",
       "    <tr>\n",
       "      <th>Jimma</th>\n",
       "      <th>2020-05-31 08:07:58+00:00</th>\n",
       "      <td>201</td>\n",
       "    </tr>\n",
       "    <tr>\n",
       "      <th>Chifunfu</th>\n",
       "      <th>2020-04-29 08:20:47+00:00</th>\n",
       "      <td>197</td>\n",
       "    </tr>\n",
       "    <tr>\n",
       "      <th>South America - Suriname</th>\n",
       "      <th>2020-06-03 14:11:18+00:00</th>\n",
       "      <td>197</td>\n",
       "    </tr>\n",
       "    <tr>\n",
       "      <th>Isiro</th>\n",
       "      <th>2020-08-28 08:39:29+00:00</th>\n",
       "      <td>197</td>\n",
       "    </tr>\n",
       "    <tr>\n",
       "      <th>Pibor</th>\n",
       "      <th>2020-08-17 08:18:22+00:00</th>\n",
       "      <td>197</td>\n",
       "    </tr>\n",
       "  </tbody>\n",
       "</table>\n",
       "</div>"
      ],
      "text/plain": [
       "                                                    chip_count\n",
       "location                 datetime                             \n",
       "South America - Brazil   2020-09-06 15:02:37+00:00         261\n",
       "Port Gentil              2020-09-08 09:50:58+00:00         223\n",
       "Uganda                   2019-04-25 08:29:37+00:00         220\n",
       "Australia - Central      2020-08-11 01:24:00+00:00         209\n",
       "Malabo                   2020-09-06 10:00:03+00:00         206\n",
       "Jimma                    2020-05-31 08:07:58+00:00         201\n",
       "Chifunfu                 2020-04-29 08:20:47+00:00         197\n",
       "South America - Suriname 2020-06-03 14:11:18+00:00         197\n",
       "Isiro                    2020-08-28 08:39:29+00:00         197\n",
       "Pibor                    2020-08-17 08:18:22+00:00         197"
      ]
     },
     "execution_count": 8,
     "metadata": {},
     "output_type": "execute_result"
    }
   ],
   "source": [
    "chips_per_locationtime = (\n",
    "    train_meta.groupby(['location','datetime'])[['chip_id']]\n",
    "    .nunique()\n",
    "    .sort_values(by='chip_id', ascending=False)\n",
    "    .rename(columns={'chip_id' : 'chip_count'})\n",
    ")\n",
    "\n",
    "chips_per_locationtime.head(10)"
   ]
  },
  {
   "cell_type": "markdown",
   "id": "2e20831b",
   "metadata": {},
   "source": [
    "## Images\n",
    "Images are stored as GeoTiffs (512x512 resolution, one pixel is about 10m) covering the exact same area.\n",
    "\n",
    "Sentinel-2 flies over the part of the Earth between 56° South (Cape Horn, South America) and 82.8° North (above Greenland), so our observations are all between these two latitudes. The chips are mostly from Africa, South America, and Australia."
   ]
  },
  {
   "cell_type": "code",
   "execution_count": 22,
   "id": "20f598d3",
   "metadata": {},
   "outputs": [
    {
     "ename": "TypeError",
     "evalue": "expected str, bytes or os.PathLike object, not Series",
     "output_type": "error",
     "traceback": [
      "\u001b[1;31m---------------------------------------------------------------------------\u001b[0m",
      "\u001b[1;31mTypeError\u001b[0m                                 Traceback (most recent call last)",
      "\u001b[1;32m~\\AppData\\Local\\Temp/ipykernel_3124/2684425220.py\u001b[0m in \u001b[0;36m<module>\u001b[1;34m\u001b[0m\n\u001b[0;32m     17\u001b[0m \u001b[1;33m\u001b[0m\u001b[0m\n\u001b[0;32m     18\u001b[0m \u001b[1;33m\u001b[0m\u001b[0m\n\u001b[1;32m---> 19\u001b[1;33m \u001b[0mtrain_meta\u001b[0m \u001b[1;33m=\u001b[0m \u001b[0madd_paths\u001b[0m\u001b[1;33m(\u001b[0m\u001b[0mtrain_meta\u001b[0m\u001b[1;33m,\u001b[0m \u001b[0mTRAIN_FEATURES\u001b[0m\u001b[1;33m,\u001b[0m \u001b[0mTRAIN_LABELS\u001b[0m\u001b[1;33m)\u001b[0m\u001b[1;33m\u001b[0m\u001b[1;33m\u001b[0m\u001b[0m\n\u001b[0m\u001b[0;32m     20\u001b[0m \u001b[0mtrain_meta\u001b[0m\u001b[1;33m.\u001b[0m\u001b[0mhead\u001b[0m\u001b[1;33m(\u001b[0m\u001b[1;33m)\u001b[0m\u001b[1;33m\u001b[0m\u001b[1;33m\u001b[0m\u001b[0m\n",
      "\u001b[1;32m~\\AppData\\Local\\Temp/ipykernel_3124/2684425220.py\u001b[0m in \u001b[0;36madd_paths\u001b[1;34m(df, feature_dir, label_dir, bands)\u001b[0m\n\u001b[0;32m      7\u001b[0m     \"\"\"\n\u001b[0;32m      8\u001b[0m     \u001b[1;32mfor\u001b[0m \u001b[0mband\u001b[0m \u001b[1;32min\u001b[0m \u001b[0mbands\u001b[0m\u001b[1;33m:\u001b[0m\u001b[1;33m\u001b[0m\u001b[1;33m\u001b[0m\u001b[0m\n\u001b[1;32m----> 9\u001b[1;33m         \u001b[0mprint\u001b[0m\u001b[1;33m(\u001b[0m\u001b[0mfeature_dir\u001b[0m \u001b[1;33m/\u001b[0m \u001b[0mdf\u001b[0m\u001b[1;33m[\u001b[0m\u001b[1;34m\"chip_id\"\u001b[0m\u001b[1;33m]\u001b[0m\u001b[1;33m)\u001b[0m\u001b[1;33m\u001b[0m\u001b[1;33m\u001b[0m\u001b[0m\n\u001b[0m\u001b[0;32m     10\u001b[0m         \u001b[1;31m#df[f\"{band}_path\"] = feature_dir / df[\"chip_id\"] / f\"{band}.tif\"\u001b[0m\u001b[1;33m\u001b[0m\u001b[1;33m\u001b[0m\u001b[1;33m\u001b[0m\u001b[0m\n\u001b[0;32m     11\u001b[0m         \u001b[1;32massert\u001b[0m \u001b[0mdf\u001b[0m\u001b[1;33m[\u001b[0m\u001b[1;34mf\"{band}_path\"\u001b[0m\u001b[1;33m]\u001b[0m\u001b[1;33m.\u001b[0m\u001b[0mpath\u001b[0m\u001b[1;33m.\u001b[0m\u001b[0mexists\u001b[0m\u001b[1;33m(\u001b[0m\u001b[1;33m)\u001b[0m\u001b[1;33m.\u001b[0m\u001b[0mall\u001b[0m\u001b[1;33m(\u001b[0m\u001b[1;33m)\u001b[0m\u001b[1;33m\u001b[0m\u001b[1;33m\u001b[0m\u001b[0m\n",
      "\u001b[1;32m~\\Anaconda3\\envs\\drivenData3\\lib\\pathlib.py\u001b[0m in \u001b[0;36m__truediv__\u001b[1;34m(self, key)\u001b[0m\n\u001b[0;32m    923\u001b[0m \u001b[1;33m\u001b[0m\u001b[0m\n\u001b[0;32m    924\u001b[0m     \u001b[1;32mdef\u001b[0m \u001b[0m__truediv__\u001b[0m\u001b[1;33m(\u001b[0m\u001b[0mself\u001b[0m\u001b[1;33m,\u001b[0m \u001b[0mkey\u001b[0m\u001b[1;33m)\u001b[0m\u001b[1;33m:\u001b[0m\u001b[1;33m\u001b[0m\u001b[1;33m\u001b[0m\u001b[0m\n\u001b[1;32m--> 925\u001b[1;33m         \u001b[1;32mreturn\u001b[0m \u001b[0mself\u001b[0m\u001b[1;33m.\u001b[0m\u001b[0m_make_child\u001b[0m\u001b[1;33m(\u001b[0m\u001b[1;33m(\u001b[0m\u001b[0mkey\u001b[0m\u001b[1;33m,\u001b[0m\u001b[1;33m)\u001b[0m\u001b[1;33m)\u001b[0m\u001b[1;33m\u001b[0m\u001b[1;33m\u001b[0m\u001b[0m\n\u001b[0m\u001b[0;32m    926\u001b[0m \u001b[1;33m\u001b[0m\u001b[0m\n\u001b[0;32m    927\u001b[0m     \u001b[1;32mdef\u001b[0m \u001b[0m__rtruediv__\u001b[0m\u001b[1;33m(\u001b[0m\u001b[0mself\u001b[0m\u001b[1;33m,\u001b[0m \u001b[0mkey\u001b[0m\u001b[1;33m)\u001b[0m\u001b[1;33m:\u001b[0m\u001b[1;33m\u001b[0m\u001b[1;33m\u001b[0m\u001b[0m\n",
      "\u001b[1;32m~\\Anaconda3\\envs\\drivenData3\\lib\\pathlib.py\u001b[0m in \u001b[0;36m_make_child\u001b[1;34m(self, args)\u001b[0m\n\u001b[0;32m    702\u001b[0m \u001b[1;33m\u001b[0m\u001b[0m\n\u001b[0;32m    703\u001b[0m     \u001b[1;32mdef\u001b[0m \u001b[0m_make_child\u001b[0m\u001b[1;33m(\u001b[0m\u001b[0mself\u001b[0m\u001b[1;33m,\u001b[0m \u001b[0margs\u001b[0m\u001b[1;33m)\u001b[0m\u001b[1;33m:\u001b[0m\u001b[1;33m\u001b[0m\u001b[1;33m\u001b[0m\u001b[0m\n\u001b[1;32m--> 704\u001b[1;33m         \u001b[0mdrv\u001b[0m\u001b[1;33m,\u001b[0m \u001b[0mroot\u001b[0m\u001b[1;33m,\u001b[0m \u001b[0mparts\u001b[0m \u001b[1;33m=\u001b[0m \u001b[0mself\u001b[0m\u001b[1;33m.\u001b[0m\u001b[0m_parse_args\u001b[0m\u001b[1;33m(\u001b[0m\u001b[0margs\u001b[0m\u001b[1;33m)\u001b[0m\u001b[1;33m\u001b[0m\u001b[1;33m\u001b[0m\u001b[0m\n\u001b[0m\u001b[0;32m    705\u001b[0m         drv, root, parts = self._flavour.join_parsed_parts(\n\u001b[0;32m    706\u001b[0m             self._drv, self._root, self._parts, drv, root, parts)\n",
      "\u001b[1;32m~\\Anaconda3\\envs\\drivenData3\\lib\\pathlib.py\u001b[0m in \u001b[0;36m_parse_args\u001b[1;34m(cls, args)\u001b[0m\n\u001b[0;32m    656\u001b[0m                 \u001b[0mparts\u001b[0m \u001b[1;33m+=\u001b[0m \u001b[0ma\u001b[0m\u001b[1;33m.\u001b[0m\u001b[0m_parts\u001b[0m\u001b[1;33m\u001b[0m\u001b[1;33m\u001b[0m\u001b[0m\n\u001b[0;32m    657\u001b[0m             \u001b[1;32melse\u001b[0m\u001b[1;33m:\u001b[0m\u001b[1;33m\u001b[0m\u001b[1;33m\u001b[0m\u001b[0m\n\u001b[1;32m--> 658\u001b[1;33m                 \u001b[0ma\u001b[0m \u001b[1;33m=\u001b[0m \u001b[0mos\u001b[0m\u001b[1;33m.\u001b[0m\u001b[0mfspath\u001b[0m\u001b[1;33m(\u001b[0m\u001b[0ma\u001b[0m\u001b[1;33m)\u001b[0m\u001b[1;33m\u001b[0m\u001b[1;33m\u001b[0m\u001b[0m\n\u001b[0m\u001b[0;32m    659\u001b[0m                 \u001b[1;32mif\u001b[0m \u001b[0misinstance\u001b[0m\u001b[1;33m(\u001b[0m\u001b[0ma\u001b[0m\u001b[1;33m,\u001b[0m \u001b[0mstr\u001b[0m\u001b[1;33m)\u001b[0m\u001b[1;33m:\u001b[0m\u001b[1;33m\u001b[0m\u001b[1;33m\u001b[0m\u001b[0m\n\u001b[0;32m    660\u001b[0m                     \u001b[1;31m# Force-cast str subclasses to str (issue #21127)\u001b[0m\u001b[1;33m\u001b[0m\u001b[1;33m\u001b[0m\u001b[1;33m\u001b[0m\u001b[0m\n",
      "\u001b[1;31mTypeError\u001b[0m: expected str, bytes or os.PathLike object, not Series"
     ]
    }
   ],
   "source": [
    "def add_paths(df, feature_dir, label_dir=None, bands=BANDS):\n",
    "    \"\"\"\n",
    "    Given dataframe with a column for chip_id, returns a dataframe with a column\n",
    "    added indicating the path to each band's TIF image as \"{band}_path\", eg \"B02_path\".\n",
    "    A column is also added to the dataframe with paths to the label TIF, if the\n",
    "    path to the labels directory is provided.\n",
    "    \"\"\"\n",
    "    for band in bands:\n",
    "        print(feature_dir / df[\"chip_id\"])\n",
    "        #df[f\"{band}_path\"] = feature_dir / df[\"chip_id\"] / f\"{band}.tif\"\n",
    "        assert df[f\"{band}_path\"].path.exists().all()\n",
    "    if label_dir is not None:\n",
    "        df[\"label_path\"] = label_dir / (df[\"chip_id\"] + \".tif\")\n",
    "        assert df[\"label_path\"].path.exists().all()\n",
    "\n",
    "    return df\n",
    "\n",
    "\n",
    "train_meta = add_paths(train_meta, TRAIN_FEATURES, TRAIN_LABELS)\n",
    "train_meta.head()"
   ]
  },
  {
   "cell_type": "code",
   "execution_count": null,
   "id": "4dd64849",
   "metadata": {},
   "outputs": [],
   "source": [
    "example_chip = train_meta[train_meta[\"chip_id\"] == \"pbyl\"]\n",
    "\n",
    "display(example_chip)"
   ]
  },
  {
   "cell_type": "code",
   "execution_count": null,
   "id": "56ddaa0f",
   "metadata": {},
   "outputs": [],
   "source": [
    "import rasterio\n",
    "example_chip = example_chip.iloc[0]\n",
    "with rasterio.open(example_chip[\"B04_path\"]) as img:\n",
    "    chip_metadata = img.meta\n",
    "    img_array = img.read(1)\n",
    "\n",
    "chip_metadata"
   ]
  },
  {
   "cell_type": "code",
   "execution_count": null,
   "id": "3de019af",
   "metadata": {},
   "outputs": [],
   "source": [
    "# what does the image array look like?\n",
    "print(\"Image array shape:\", img_array.shape)\n",
    "img_array"
   ]
  },
  {
   "cell_type": "code",
   "execution_count": null,
   "id": "fac54fad",
   "metadata": {},
   "outputs": [],
   "source": [
    "np.isnan(img_array).sum()"
   ]
  },
  {
   "cell_type": "code",
   "execution_count": null,
   "id": "400413f6",
   "metadata": {},
   "outputs": [],
   "source": [
    "plt.imshow(img_array)\n",
    "plt.title(f\"B04 band for chip id {example_chip.chip_id}\")\n",
    "plt.show()"
   ]
  },
  {
   "cell_type": "markdown",
   "id": "3bb90c06",
   "metadata": {},
   "source": [
    "### Coordinates"
   ]
  },
  {
   "cell_type": "code",
   "execution_count": null,
   "id": "e64e4e53",
   "metadata": {},
   "outputs": [],
   "source": [
    "# longitude/latitude of image's center\n",
    "with rasterio.open(example_chip[\"B04_path\"]) as img:\n",
    "    lon, lat = img.lnglat()\n",
    "    bounds = img.bounds\n",
    "print(f\"Longitude: {lon}, latitude: {lat}\")"
   ]
  },
  {
   "cell_type": "code",
   "execution_count": null,
   "id": "e94a1012",
   "metadata": {},
   "outputs": [],
   "source": [
    "bounds"
   ]
  },
  {
   "cell_type": "markdown",
   "id": "aee62b79",
   "metadata": {},
   "source": [
    "There are different projections (crs atribute in metadata) in BoundingBox and Long/Lat. We can transform them with **pyproj** library"
   ]
  },
  {
   "cell_type": "code",
   "execution_count": null,
   "id": "85bdac1a",
   "metadata": {},
   "outputs": [],
   "source": [
    "import pyproj"
   ]
  },
  {
   "cell_type": "code",
   "execution_count": null,
   "id": "84892eb2",
   "metadata": {},
   "outputs": [],
   "source": [
    "def lat_long_bounds(filepath):\n",
    "    \"\"\"Given the path to a GeoTIFF, returns the image bounds in latitude and\n",
    "    longitude coordinates.\n",
    "\n",
    "    Returns points as a tuple of (left, bottom, right, top)\n",
    "    \"\"\"\n",
    "    with rasterio.open(filepath) as im:\n",
    "        bounds = im.bounds\n",
    "        meta = im.meta\n",
    "    # create a converter starting with the current projection\n",
    "    current_crs = pyproj.CRS(meta[\"crs\"])\n",
    "    crs_transform = pyproj.Transformer.from_crs(current_crs, current_crs.geodetic_crs)\n",
    "\n",
    "    # returns left, bottom, right, top\n",
    "    return crs_transform.transform_bounds(*bounds)"
   ]
  },
  {
   "cell_type": "code",
   "execution_count": null,
   "id": "af1c687c",
   "metadata": {},
   "outputs": [],
   "source": [
    "left, bottom, right, top = lat_long_bounds(example_chip[\"B04_path\"])\n",
    "print(\n",
    "    f\"Image coordinates (lat, long):\\nStart: ({left}, {bottom})\"\n",
    "    f\"\\nEnd: ({right}, {top})\"\n",
    ")"
   ]
  },
  {
   "cell_type": "markdown",
   "id": "1701820c",
   "metadata": {},
   "source": [
    "### True color image\n",
    "We can also make a composition image from all three visible bands (blue/green/red) to visualize a high-quality, true color image. To show this image, we'll use the xarraz and xrspatial packages designed for Sentinel-2 satellite data."
   ]
  },
  {
   "cell_type": "code",
   "execution_count": null,
   "id": "691264f2",
   "metadata": {},
   "outputs": [],
   "source": [
    "import xarray\n",
    "import xrspatial.multispectral as ms"
   ]
  },
  {
   "cell_type": "code",
   "execution_count": null,
   "id": "6a7778c4",
   "metadata": {},
   "outputs": [],
   "source": [
    "def get_xarray(filepath):\n",
    "    \"\"\"Put images in xarray.DataArray format\"\"\"\n",
    "    im_arr = np.array(Image.open(filepath))\n",
    "    return xarray.DataArray(im_arr, dims=[\"y\", \"x\"])\n",
    "\n",
    "\n",
    "def true_color_img(chip_id, data_dir=TRAIN_FEATURES):\n",
    "    \"\"\"Given the path to the directory of Sentinel-2 chip feature images,\n",
    "    plots the true color image\"\"\"\n",
    "    chip_dir = data_dir / chip_id\n",
    "    red = get_xarray(chip_dir / \"B04.tif\")\n",
    "    green = get_xarray(chip_dir / \"B03.tif\")\n",
    "    blue = get_xarray(chip_dir / \"B02.tif\")\n",
    "\n",
    "    return ms.true_color(r=red, g=green, b=blue)"
   ]
  },
  {
   "cell_type": "code",
   "execution_count": null,
   "id": "beb1a9ff",
   "metadata": {},
   "outputs": [],
   "source": [
    "fig, ax = plt.subplots(figsize=(5, 5))\n",
    "im = true_color_img(example_chip.chip_id)\n",
    "ax.imshow(im)\n",
    "plt.title(f\"True color image for chip id {example_chip.chip_id}\")"
   ]
  },
  {
   "cell_type": "code",
   "execution_count": null,
   "id": "bf2758ee",
   "metadata": {},
   "outputs": [],
   "source": [
    "def display_random_chip(random_state):\n",
    "    fig, ax = plt.subplots(1, 2, figsize=(8, 4))\n",
    "    random_chip = train_meta.sample(random_state=random_state).iloc[0]\n",
    "    ax[0].imshow(true_color_img(random_chip.chip_id))\n",
    "    ax[0].set_title(f\"Chip {random_chip.chip_id}\\n(Location: {random_chip.location})\")\n",
    "    label_im = Image.open(random_chip.label_path)\n",
    "    ax[1].imshow(label_im)\n",
    "    ax[1].set_title(f\"Chip {random_chip.chip_id} label\")\n",
    "\n",
    "    plt.tight_layout()\n",
    "    plt.show()"
   ]
  },
  {
   "cell_type": "code",
   "execution_count": null,
   "id": "e355f544",
   "metadata": {},
   "outputs": [],
   "source": [
    "display_random_chip(1)"
   ]
  },
  {
   "cell_type": "code",
   "execution_count": null,
   "id": "5fb1f3e4",
   "metadata": {},
   "outputs": [],
   "source": [
    "display_random_chip(9)"
   ]
  },
  {
   "cell_type": "code",
   "execution_count": null,
   "id": "be4da300",
   "metadata": {},
   "outputs": [],
   "source": [
    "display_random_chip(40)"
   ]
  },
  {
   "cell_type": "markdown",
   "id": "033ec624",
   "metadata": {},
   "source": [
    "### Split the Data\n",
    "We split data into 1/3 validation and 2/3 training sets. \n",
    "\n",
    "There are some posibilities to change. Like changing splitting ratio (20/80 for example) or not to split by chips but by location. We can try"
   ]
  },
  {
   "cell_type": "code",
   "execution_count": 13,
   "id": "5c24ac6a",
   "metadata": {},
   "outputs": [],
   "source": [
    "import random"
   ]
  },
  {
   "cell_type": "code",
   "execution_count": 14,
   "id": "91536fae",
   "metadata": {},
   "outputs": [
    {
     "data": {
      "text/plain": [
       "((3877, 5), (7871, 5))"
      ]
     },
     "execution_count": 14,
     "metadata": {},
     "output_type": "execute_result"
    }
   ],
   "source": [
    "random.seed(9) # set a seed for reproducibility\n",
    "\n",
    "# put 1/3 of chips into the validation set\n",
    "chip_ids = train_meta.chip_id.unique().tolist()\n",
    "val_chip_ids = random.sample(chip_ids, round(len(chip_ids) * 0.33))\n",
    "\n",
    "val_mask = train_meta.chip_id.isin(val_chip_ids)\n",
    "val = train_meta[val_mask].copy().reset_index(drop=True)\n",
    "train = train_meta[~val_mask].copy().reset_index(drop=True)\n",
    "\n",
    "val.shape, train.shape"
   ]
  },
  {
   "cell_type": "code",
   "execution_count": 15,
   "id": "2df5d968",
   "metadata": {},
   "outputs": [
    {
     "ename": "KeyError",
     "evalue": "\"['B02_path', 'B03_path', 'B04_path', 'B08_path'] not in index\"",
     "output_type": "error",
     "traceback": [
      "\u001b[1;31m---------------------------------------------------------------------------\u001b[0m",
      "\u001b[1;31mKeyError\u001b[0m                                  Traceback (most recent call last)",
      "\u001b[1;32m~\\AppData\\Local\\Temp/ipykernel_3124/2836728570.py\u001b[0m in \u001b[0;36m<module>\u001b[1;34m\u001b[0m\n\u001b[0;32m      2\u001b[0m \u001b[0mfeature_cols\u001b[0m \u001b[1;33m=\u001b[0m \u001b[1;33m[\u001b[0m\u001b[1;34m'chip_id'\u001b[0m\u001b[1;33m]\u001b[0m \u001b[1;33m+\u001b[0m \u001b[1;33m[\u001b[0m\u001b[1;34mf'{band}_path'\u001b[0m \u001b[1;32mfor\u001b[0m \u001b[0mband\u001b[0m \u001b[1;32min\u001b[0m \u001b[0mBANDS\u001b[0m\u001b[1;33m]\u001b[0m\u001b[1;33m\u001b[0m\u001b[1;33m\u001b[0m\u001b[0m\n\u001b[0;32m      3\u001b[0m \u001b[1;33m\u001b[0m\u001b[0m\n\u001b[1;32m----> 4\u001b[1;33m \u001b[0mval_x\u001b[0m \u001b[1;33m=\u001b[0m \u001b[0mval\u001b[0m\u001b[1;33m[\u001b[0m\u001b[0mfeature_cols\u001b[0m\u001b[1;33m]\u001b[0m\u001b[1;33m.\u001b[0m\u001b[0mcopy\u001b[0m\u001b[1;33m(\u001b[0m\u001b[1;33m)\u001b[0m\u001b[1;33m\u001b[0m\u001b[1;33m\u001b[0m\u001b[0m\n\u001b[0m\u001b[0;32m      5\u001b[0m \u001b[0mval_y\u001b[0m \u001b[1;33m=\u001b[0m \u001b[0mval\u001b[0m\u001b[1;33m[\u001b[0m\u001b[1;33m[\u001b[0m\u001b[1;34m'chip_id'\u001b[0m\u001b[1;33m,\u001b[0m \u001b[1;34m'label_path'\u001b[0m\u001b[1;33m]\u001b[0m\u001b[1;33m]\u001b[0m\u001b[1;33m.\u001b[0m\u001b[0mcopy\u001b[0m\u001b[1;33m(\u001b[0m\u001b[1;33m)\u001b[0m\u001b[1;33m\u001b[0m\u001b[1;33m\u001b[0m\u001b[0m\n\u001b[0;32m      6\u001b[0m \u001b[1;33m\u001b[0m\u001b[0m\n",
      "\u001b[1;32m~\\Anaconda3\\envs\\drivenData3\\lib\\site-packages\\pandas\\core\\frame.py\u001b[0m in \u001b[0;36m__getitem__\u001b[1;34m(self, key)\u001b[0m\n\u001b[0;32m   3462\u001b[0m             \u001b[1;32mif\u001b[0m \u001b[0mis_iterator\u001b[0m\u001b[1;33m(\u001b[0m\u001b[0mkey\u001b[0m\u001b[1;33m)\u001b[0m\u001b[1;33m:\u001b[0m\u001b[1;33m\u001b[0m\u001b[1;33m\u001b[0m\u001b[0m\n\u001b[0;32m   3463\u001b[0m                 \u001b[0mkey\u001b[0m \u001b[1;33m=\u001b[0m \u001b[0mlist\u001b[0m\u001b[1;33m(\u001b[0m\u001b[0mkey\u001b[0m\u001b[1;33m)\u001b[0m\u001b[1;33m\u001b[0m\u001b[1;33m\u001b[0m\u001b[0m\n\u001b[1;32m-> 3464\u001b[1;33m             \u001b[0mindexer\u001b[0m \u001b[1;33m=\u001b[0m \u001b[0mself\u001b[0m\u001b[1;33m.\u001b[0m\u001b[0mloc\u001b[0m\u001b[1;33m.\u001b[0m\u001b[0m_get_listlike_indexer\u001b[0m\u001b[1;33m(\u001b[0m\u001b[0mkey\u001b[0m\u001b[1;33m,\u001b[0m \u001b[0maxis\u001b[0m\u001b[1;33m=\u001b[0m\u001b[1;36m1\u001b[0m\u001b[1;33m)\u001b[0m\u001b[1;33m[\u001b[0m\u001b[1;36m1\u001b[0m\u001b[1;33m]\u001b[0m\u001b[1;33m\u001b[0m\u001b[1;33m\u001b[0m\u001b[0m\n\u001b[0m\u001b[0;32m   3465\u001b[0m \u001b[1;33m\u001b[0m\u001b[0m\n\u001b[0;32m   3466\u001b[0m         \u001b[1;31m# take() does not accept boolean indexers\u001b[0m\u001b[1;33m\u001b[0m\u001b[1;33m\u001b[0m\u001b[1;33m\u001b[0m\u001b[0m\n",
      "\u001b[1;32m~\\Anaconda3\\envs\\drivenData3\\lib\\site-packages\\pandas\\core\\indexing.py\u001b[0m in \u001b[0;36m_get_listlike_indexer\u001b[1;34m(self, key, axis)\u001b[0m\n\u001b[0;32m   1312\u001b[0m             \u001b[0mkeyarr\u001b[0m\u001b[1;33m,\u001b[0m \u001b[0mindexer\u001b[0m\u001b[1;33m,\u001b[0m \u001b[0mnew_indexer\u001b[0m \u001b[1;33m=\u001b[0m \u001b[0max\u001b[0m\u001b[1;33m.\u001b[0m\u001b[0m_reindex_non_unique\u001b[0m\u001b[1;33m(\u001b[0m\u001b[0mkeyarr\u001b[0m\u001b[1;33m)\u001b[0m\u001b[1;33m\u001b[0m\u001b[1;33m\u001b[0m\u001b[0m\n\u001b[0;32m   1313\u001b[0m \u001b[1;33m\u001b[0m\u001b[0m\n\u001b[1;32m-> 1314\u001b[1;33m         \u001b[0mself\u001b[0m\u001b[1;33m.\u001b[0m\u001b[0m_validate_read_indexer\u001b[0m\u001b[1;33m(\u001b[0m\u001b[0mkeyarr\u001b[0m\u001b[1;33m,\u001b[0m \u001b[0mindexer\u001b[0m\u001b[1;33m,\u001b[0m \u001b[0maxis\u001b[0m\u001b[1;33m)\u001b[0m\u001b[1;33m\u001b[0m\u001b[1;33m\u001b[0m\u001b[0m\n\u001b[0m\u001b[0;32m   1315\u001b[0m \u001b[1;33m\u001b[0m\u001b[0m\n\u001b[0;32m   1316\u001b[0m         if needs_i8_conversion(ax.dtype) or isinstance(\n",
      "\u001b[1;32m~\\Anaconda3\\envs\\drivenData3\\lib\\site-packages\\pandas\\core\\indexing.py\u001b[0m in \u001b[0;36m_validate_read_indexer\u001b[1;34m(self, key, indexer, axis)\u001b[0m\n\u001b[0;32m   1375\u001b[0m \u001b[1;33m\u001b[0m\u001b[0m\n\u001b[0;32m   1376\u001b[0m             \u001b[0mnot_found\u001b[0m \u001b[1;33m=\u001b[0m \u001b[0mlist\u001b[0m\u001b[1;33m(\u001b[0m\u001b[0mensure_index\u001b[0m\u001b[1;33m(\u001b[0m\u001b[0mkey\u001b[0m\u001b[1;33m)\u001b[0m\u001b[1;33m[\u001b[0m\u001b[0mmissing_mask\u001b[0m\u001b[1;33m.\u001b[0m\u001b[0mnonzero\u001b[0m\u001b[1;33m(\u001b[0m\u001b[1;33m)\u001b[0m\u001b[1;33m[\u001b[0m\u001b[1;36m0\u001b[0m\u001b[1;33m]\u001b[0m\u001b[1;33m]\u001b[0m\u001b[1;33m.\u001b[0m\u001b[0munique\u001b[0m\u001b[1;33m(\u001b[0m\u001b[1;33m)\u001b[0m\u001b[1;33m)\u001b[0m\u001b[1;33m\u001b[0m\u001b[1;33m\u001b[0m\u001b[0m\n\u001b[1;32m-> 1377\u001b[1;33m             \u001b[1;32mraise\u001b[0m \u001b[0mKeyError\u001b[0m\u001b[1;33m(\u001b[0m\u001b[1;34mf\"{not_found} not in index\"\u001b[0m\u001b[1;33m)\u001b[0m\u001b[1;33m\u001b[0m\u001b[1;33m\u001b[0m\u001b[0m\n\u001b[0m\u001b[0;32m   1378\u001b[0m \u001b[1;33m\u001b[0m\u001b[0m\n\u001b[0;32m   1379\u001b[0m \u001b[1;33m\u001b[0m\u001b[0m\n",
      "\u001b[1;31mKeyError\u001b[0m: \"['B02_path', 'B03_path', 'B04_path', 'B08_path'] not in index\""
     ]
    }
   ],
   "source": [
    "# separate features from labels\n",
    "feature_cols = ['chip_id'] + [f'{band}_path' for band in BANDS]\n",
    "\n",
    "val_x = val[feature_cols].copy()\n",
    "val_y = val[['chip_id', 'label_path']].copy()\n",
    "\n",
    "train_x = train[feature_cols].copy()\n",
    "train_y = train[['chip_id', 'label_path']].copy()"
   ]
  },
  {
   "cell_type": "code",
   "execution_count": null,
   "id": "06bec8b8",
   "metadata": {},
   "outputs": [],
   "source": [
    "val_x.head()"
   ]
  },
  {
   "cell_type": "code",
   "execution_count": null,
   "id": "2f3803cd",
   "metadata": {},
   "outputs": [],
   "source": [
    "val_y.head()"
   ]
  },
  {
   "cell_type": "markdown",
   "id": "1f764c77",
   "metadata": {},
   "source": [
    "## CODE EXECUTION\n",
    "Let's sart with the basic neural network model (more specificaly publicly available convolutional neural network U-Net) using some of the standard libraries (PyTorch Lightning). (There is a lot of room for improvements).\n",
    "\n",
    "U-Net was first designed to help process biomedical imaging and identify things like signs of disease. The basic structure is an encoder network followed by a decoder network. We'll use a pretrained backbone called ResNet34 as our encoder.\n"
   ]
  },
  {
   "cell_type": "code",
   "execution_count": null,
   "id": "80286a03",
   "metadata": {},
   "outputs": [],
   "source": [
    "# create benchmark_src folder\n",
    "submission_dir = Path(\"benchmark_src\")\n",
    "if submission_dir.exists():\n",
    "    shutil.rmtree(submission_dir)\n",
    "\n",
    "submission_dir.mkdir(parents=True)"
   ]
  },
  {
   "cell_type": "code",
   "execution_count": null,
   "id": "395971f8",
   "metadata": {},
   "outputs": [],
   "source": [
    "%%file {submission_dir}/cloud_dataset.py\n",
    "import numpy as np\n",
    "import pandas as pd\n",
    "import rasterio\n",
    "import torch\n",
    "from typing import Optional, List\n",
    "\n",
    "class CloudDataset(torch.utils.data.Dataset):\n",
    "    \"\"\"\n",
    "    Reads in images, transforms pixel values and serves a\n",
    "    dictionary containing chip ids, image tensors and label\n",
    "    mask (when available)\n",
    "    \"\"\"\n",
    "    \n",
    "    def __init__(\n",
    "    self,\n",
    "    x_paths: pd.DataFrame,\n",
    "    bands: List[str],\n",
    "    y_paths: Optional[pd.DataFrame] = None,\n",
    "    transforms: Optional[list] = None\n",
    "    ):\n",
    "        \"\"\"\n",
    "        Instantiate the CloudDataset class.\n",
    "        \n",
    "        Args:\n",
    "            x_paths (pd.DataFrame): a dataframe with a row for each chip. There must be \n",
    "                a column for chip_id and a column with the path to the TIF for each of bands\n",
    "            bands (list[str]): list of the bands included in the data\n",
    "            y_paths (pd.DataFrame, optional): a dataframe with a row for each chip and columns for chip_id\n",
    "                and the path to the label TIF with ground truth cloud cover\n",
    "            transforms (list, optional): list of transforms to apply to the feature data (eg augmentations)\n",
    "        \"\"\"\n",
    "        self.data = x_paths\n",
    "        self.label = y_paths\n",
    "        self.transforms = transforms\n",
    "        self.bands = bands\n",
    "        \n",
    "    def __len__(self):\n",
    "        return len(self.data)\n",
    "    \n",
    "    def __getitem__(self, idx: int):\n",
    "        # Loads an n-channel image from a chip-level dataframe\n",
    "        img = self.data.loc[idx]\n",
    "        band_arrs = []\n",
    "        for band in self.bands:\n",
    "            with rasterio.open(img[f\"{band}_path\"]) as b:\n",
    "                band_arr = b.read(1).astype(\"float32\")\n",
    "            band_arrs.append(bamd_arr)\n",
    "        x_arr = np.stack(band_arrs, axis = -1)\n",
    "        \n",
    "        # Apply data augmentation, if provided\n",
    "        if self.transforms:\n",
    "            x_arr = self.transforms(image=x_arr)[\"image\"]\n",
    "        x_arr = np.transpose(x_arr, [2,0,1])\n",
    "        \n",
    "        # Prepare dictionary for item\n",
    "        item = {\"chip_id\" : img.chip_id, \"chip\": x_arr}\n",
    "        \n",
    "        # Load label if available\n",
    "        if self.label is not None:\n",
    "            label_path = self.label.loc[idx].label_path\n",
    "            with rasterio.open(label_path) as lp:\n",
    "                y_arr = lp.read(1).astype(\"float32\")\n",
    "            # Apply same data augmentation to the label\n",
    "            if self.transforms:\n",
    "                y_arr = self.transforms(image=y_arr)[\"image\"]\n",
    "            item[\"label\"] = y_arr\n",
    "        \n",
    "        return item"
   ]
  },
  {
   "cell_type": "markdown",
   "id": "c328f44a",
   "metadata": {},
   "source": [
    "## CloudModel\n"
   ]
  },
  {
   "cell_type": "code",
   "execution_count": 12,
   "id": "b535b020",
   "metadata": {},
   "outputs": [
    {
     "name": "stdout",
     "output_type": "stream",
     "text": [
      "Writing {submission_dir}/cloud_model.py\n"
     ]
    },
    {
     "ename": "FileNotFoundError",
     "evalue": "[Errno 2] No such file or directory: '{submission_dir}/cloud_model.py'",
     "output_type": "error",
     "traceback": [
      "\u001b[1;31m---------------------------------------------------------------------------\u001b[0m",
      "\u001b[1;31mFileNotFoundError\u001b[0m                         Traceback (most recent call last)",
      "\u001b[1;32m~\\AppData\\Local\\Temp/ipykernel_3124/2953236333.py\u001b[0m in \u001b[0;36m<module>\u001b[1;34m\u001b[0m\n\u001b[1;32m----> 1\u001b[1;33m \u001b[0mget_ipython\u001b[0m\u001b[1;33m(\u001b[0m\u001b[1;33m)\u001b[0m\u001b[1;33m.\u001b[0m\u001b[0mrun_cell_magic\u001b[0m\u001b[1;33m(\u001b[0m\u001b[1;34m'file'\u001b[0m\u001b[1;33m,\u001b[0m \u001b[1;34m'{submission_dir}/cloud_model.py'\u001b[0m\u001b[1;33m,\u001b[0m \u001b[1;34m'from typing import Optional, List\\n\\nimport pandas as pd\\nimport pytorch_lightning as pl\\nimport segmentation_models_pytorch as smp\\nimport torch\\n\\ntry:\\n    from cloud_dataset import CloudDataset\\n    from losses import intersection_over_union\\nexcept ImportError:\\n    from benchmark_src.cloud_dataset import CloudDataset\\n    from benchmark_src.losses import intersection_over_union\\n    \\nclass CloudModel(pl.LighningModule):\\n    \\n    def __init__(\\n        self,\\n        bands: List[str],\\n        x_train: Optional[pd.DataFrame] = None,\\n        y_train: Optional[pd.DataFrame] = None,\\n        x_val: Optional[pd.DataFrame] = None,\\n        y_val: Optional[pd.DataFrame] = None,\\n        hparams: dict = {},\\n    ):\\n        \"\"\"\\n        Instantiate the CloudModel class based on the pl.LightningModule\\n        (https://pytorch-lightning.readthedocs.io/en/latest/common/lightning_module.html).\\n\\n        Args:\\n            bands (list[str]): Names of the bands provided for each chip\\n            x_train (pd.DataFrame, optional): a dataframe of the training features with a row for each chip.\\n                There must be a column for chip_id, and a column with the path to the TIF for each of bands.\\n                Required for model training\\n            y_train (pd.DataFrame, optional): a dataframe of the training labels with a for each chip\\n                and columns for chip_id and the path to the label TIF with ground truth cloud cover.\\n                Required for model training\\n            x_val (pd.DataFrame, optional): a dataframe of the validation features with a row for each chip.\\n                There must be a column for chip_id, and a column with the path to the TIF for each of bands.\\n                Required for model training\\n            y_val (pd.DataFrame, optional): a dataframe of the validation labels with a for each chip\\n                and columns for chip_id and the path to the label TIF with ground truth cloud cover.\\n                Required for model training\\n            hparams (dict, optional): Dictionary of additional modeling parameters.        \\n        \"\"\"\\n        super().__init__()\\n        self.hparams.update(hparams)\\n        self.save_hyperparameters()\\n        \\n        # required\\n        self.bands = bands\\n        \\n        # optional modeling params\\n        self.backbone = self.hparams.get(\"backbone\", \"resnet34\")\\n        self.weights = self.hparams.get(\"weights\", \"imagenet\")\\n        self.learning_rate = self.hparams.get(\"lr\", 1e-3)\\n        self.patience = self.hparams.get(\"patience\", 4)\\n        self.num_workers = self.hparams.get(\"num_workers\", 2)\\n        self.batch_size = self.hparmas.get(\"batch_size\", 32)\\n        self.gpu = self.hparams.get(\"gpu\", False)\\n        self.transform = None\\n        \\n        # Instantiante datasets, model, and trainer params if provided\\n        self.train_dataset = CloudDatset(\\n            x_paths = x_train,\\n            bands = self.bands,\\n            y_paths = y_train,\\n            transforms = self.transform\\n        )\\n        \\n        self.val_dataset = CloudDataset(\\n            x_path = v_val,\\n            bands = self.bands,\\n            y_paths = y_val,\\n            transforms = None\\n        )\\n        \\n        self.model = self._prepare_model()\\n        \\n    ## Required LightningModule methods ##\\n    \\n    def forward(self, image: torch.Tensor):\\n        # Forward pass\\n        return self.model(image)\\n    \\n    def training_step(self, batch: dict, batch_idx: int):\\n        \"\"\"\\n        Training step.\\n\\n        Args:\\n            batch (dict): dictionary of items from CloudDataset of the form\\n                {\\'chip_id\\': list[str], \\'chip\\': list[torch.Tensor], \\'label\\': list[torch.Tensor]}\\n            batch_idx (int): batch number        \\n        \"\"\"\\n        if self.train_dataset.data is None:\\n            raise ValueError(\\n                \"x_train and y_train mus be specified when CloudModel is instantiated to run training\"\\n            )\\n        \\n        # Switch on training mode\\n        self.model.train()\\n        torch.set_grad_enabled(True)\\n        \\n        # Load images and labels\\n        x = batch[\"chip\"]\\n        y = batch[\"label\"].long()\\n        if self.gpu:\\n            x, y = x.cuda(non_blocking = True), y.cuda(non_blocking=True)\\n            \\n        # Forward pass & softmax\\n        preds = self.forward(x)\\n        preds = torch.softmax(preds, dim=1)[:, 1]\\n        preds = (preds > 0.5) * 1 #convert to int\\n        \\n        # Log batch IOU\\n        batch_iou = intersection_over_union(preds, y)\\n        self.log(\\n            \"iou\", batch_iou, on_step=True, on_epoch=True, prog_bar=True, logger=True\\n        )\\n        return batch_iou\\n    \\n    def train_dataloader(self):\\n        #Dataloader class for training\\n        return torch.utils.data.DataLoader(\\n            self.train_dataset,\\n            batch_size = self.batch_size,\\n            num_workers = self.num_workers,\\n            shuffle = True,\\n            pin_memory = True,\\n        )\\n    \\n    def configure_optimizers(self):\\n        opt = torch.optim.Adam(self.model.parameters(), lr=self.learning_rate)\\n        sch = torch.optim.lr_scheduler.CosineAnnealingLR(opt, T_max=10)\\n        return [opt], [sch]\\n    \\n    ## Convenience Methods ##\\n    \\n    def _prepare_model(self):\\n        # Instantiate U-Net model\\n        unet_model = smp.Unet(\\n            encoder_name = self.backbone,\\n            encoder_wights = self.weights,\\n            in_channels = 4,\\n            classes = 2,\\n        )\\n        \\n        if self.gpu:\\n            unet_model.cuda()\\n            \\n        return unet_model\\n'\u001b[0m\u001b[1;33m)\u001b[0m\u001b[1;33m\u001b[0m\u001b[1;33m\u001b[0m\u001b[0m\n\u001b[0m",
      "\u001b[1;32m~\\Anaconda3\\envs\\drivenData3\\lib\\site-packages\\IPython\\core\\interactiveshell.py\u001b[0m in \u001b[0;36mrun_cell_magic\u001b[1;34m(self, magic_name, line, cell)\u001b[0m\n\u001b[0;32m   2404\u001b[0m             \u001b[1;32mwith\u001b[0m \u001b[0mself\u001b[0m\u001b[1;33m.\u001b[0m\u001b[0mbuiltin_trap\u001b[0m\u001b[1;33m:\u001b[0m\u001b[1;33m\u001b[0m\u001b[1;33m\u001b[0m\u001b[0m\n\u001b[0;32m   2405\u001b[0m                 \u001b[0margs\u001b[0m \u001b[1;33m=\u001b[0m \u001b[1;33m(\u001b[0m\u001b[0mmagic_arg_s\u001b[0m\u001b[1;33m,\u001b[0m \u001b[0mcell\u001b[0m\u001b[1;33m)\u001b[0m\u001b[1;33m\u001b[0m\u001b[1;33m\u001b[0m\u001b[0m\n\u001b[1;32m-> 2406\u001b[1;33m                 \u001b[0mresult\u001b[0m \u001b[1;33m=\u001b[0m \u001b[0mfn\u001b[0m\u001b[1;33m(\u001b[0m\u001b[1;33m*\u001b[0m\u001b[0margs\u001b[0m\u001b[1;33m,\u001b[0m \u001b[1;33m**\u001b[0m\u001b[0mkwargs\u001b[0m\u001b[1;33m)\u001b[0m\u001b[1;33m\u001b[0m\u001b[1;33m\u001b[0m\u001b[0m\n\u001b[0m\u001b[0;32m   2407\u001b[0m             \u001b[1;32mreturn\u001b[0m \u001b[0mresult\u001b[0m\u001b[1;33m\u001b[0m\u001b[1;33m\u001b[0m\u001b[0m\n\u001b[0;32m   2408\u001b[0m \u001b[1;33m\u001b[0m\u001b[0m\n",
      "\u001b[1;32m~\\Anaconda3\\envs\\drivenData3\\lib\\site-packages\\IPython\\core\\magic.py\u001b[0m in \u001b[0;36m__call__\u001b[1;34m(self, *args, **kwargs)\u001b[0m\n\u001b[0;32m    699\u001b[0m                 \u001b[0margs_list\u001b[0m\u001b[1;33m[\u001b[0m\u001b[1;36m0\u001b[0m\u001b[1;33m]\u001b[0m \u001b[1;33m=\u001b[0m \u001b[0mself\u001b[0m\u001b[1;33m.\u001b[0m\u001b[0mmagic_params\u001b[0m \u001b[1;33m+\u001b[0m \u001b[1;34m\" \"\u001b[0m \u001b[1;33m+\u001b[0m \u001b[0margs\u001b[0m\u001b[1;33m[\u001b[0m\u001b[1;36m0\u001b[0m\u001b[1;33m]\u001b[0m\u001b[1;33m\u001b[0m\u001b[1;33m\u001b[0m\u001b[0m\n\u001b[0;32m    700\u001b[0m                 \u001b[0margs\u001b[0m \u001b[1;33m=\u001b[0m \u001b[0mtuple\u001b[0m\u001b[1;33m(\u001b[0m\u001b[0margs_list\u001b[0m\u001b[1;33m)\u001b[0m\u001b[1;33m\u001b[0m\u001b[1;33m\u001b[0m\u001b[0m\n\u001b[1;32m--> 701\u001b[1;33m             \u001b[1;32mreturn\u001b[0m \u001b[0mfn\u001b[0m\u001b[1;33m(\u001b[0m\u001b[1;33m*\u001b[0m\u001b[0margs\u001b[0m\u001b[1;33m,\u001b[0m \u001b[1;33m**\u001b[0m\u001b[0mkwargs\u001b[0m\u001b[1;33m)\u001b[0m\u001b[1;33m\u001b[0m\u001b[1;33m\u001b[0m\u001b[0m\n\u001b[0m\u001b[0;32m    702\u001b[0m         \u001b[1;32mfinally\u001b[0m\u001b[1;33m:\u001b[0m\u001b[1;33m\u001b[0m\u001b[1;33m\u001b[0m\u001b[0m\n\u001b[0;32m    703\u001b[0m             \u001b[0mself\u001b[0m\u001b[1;33m.\u001b[0m\u001b[0m_in_call\u001b[0m \u001b[1;33m=\u001b[0m \u001b[1;32mFalse\u001b[0m\u001b[1;33m\u001b[0m\u001b[1;33m\u001b[0m\u001b[0m\n",
      "\u001b[1;32m~\\Anaconda3\\envs\\drivenData3\\lib\\site-packages\\decorator.py\u001b[0m in \u001b[0;36mfun\u001b[1;34m(*args, **kw)\u001b[0m\n\u001b[0;32m    230\u001b[0m             \u001b[1;32mif\u001b[0m \u001b[1;32mnot\u001b[0m \u001b[0mkwsyntax\u001b[0m\u001b[1;33m:\u001b[0m\u001b[1;33m\u001b[0m\u001b[1;33m\u001b[0m\u001b[0m\n\u001b[0;32m    231\u001b[0m                 \u001b[0margs\u001b[0m\u001b[1;33m,\u001b[0m \u001b[0mkw\u001b[0m \u001b[1;33m=\u001b[0m \u001b[0mfix\u001b[0m\u001b[1;33m(\u001b[0m\u001b[0margs\u001b[0m\u001b[1;33m,\u001b[0m \u001b[0mkw\u001b[0m\u001b[1;33m,\u001b[0m \u001b[0msig\u001b[0m\u001b[1;33m)\u001b[0m\u001b[1;33m\u001b[0m\u001b[1;33m\u001b[0m\u001b[0m\n\u001b[1;32m--> 232\u001b[1;33m             \u001b[1;32mreturn\u001b[0m \u001b[0mcaller\u001b[0m\u001b[1;33m(\u001b[0m\u001b[0mfunc\u001b[0m\u001b[1;33m,\u001b[0m \u001b[1;33m*\u001b[0m\u001b[1;33m(\u001b[0m\u001b[0mextras\u001b[0m \u001b[1;33m+\u001b[0m \u001b[0margs\u001b[0m\u001b[1;33m)\u001b[0m\u001b[1;33m,\u001b[0m \u001b[1;33m**\u001b[0m\u001b[0mkw\u001b[0m\u001b[1;33m)\u001b[0m\u001b[1;33m\u001b[0m\u001b[1;33m\u001b[0m\u001b[0m\n\u001b[0m\u001b[0;32m    233\u001b[0m     \u001b[0mfun\u001b[0m\u001b[1;33m.\u001b[0m\u001b[0m__name__\u001b[0m \u001b[1;33m=\u001b[0m \u001b[0mfunc\u001b[0m\u001b[1;33m.\u001b[0m\u001b[0m__name__\u001b[0m\u001b[1;33m\u001b[0m\u001b[1;33m\u001b[0m\u001b[0m\n\u001b[0;32m    234\u001b[0m     \u001b[0mfun\u001b[0m\u001b[1;33m.\u001b[0m\u001b[0m__doc__\u001b[0m \u001b[1;33m=\u001b[0m \u001b[0mfunc\u001b[0m\u001b[1;33m.\u001b[0m\u001b[0m__doc__\u001b[0m\u001b[1;33m\u001b[0m\u001b[1;33m\u001b[0m\u001b[0m\n",
      "\u001b[1;32m~\\Anaconda3\\envs\\drivenData3\\lib\\site-packages\\IPython\\core\\magic.py\u001b[0m in \u001b[0;36m<lambda>\u001b[1;34m(f, *a, **k)\u001b[0m\n\u001b[0;32m    185\u001b[0m     \u001b[1;31m# but it's overkill for just that one bit of state.\u001b[0m\u001b[1;33m\u001b[0m\u001b[1;33m\u001b[0m\u001b[1;33m\u001b[0m\u001b[0m\n\u001b[0;32m    186\u001b[0m     \u001b[1;32mdef\u001b[0m \u001b[0mmagic_deco\u001b[0m\u001b[1;33m(\u001b[0m\u001b[0marg\u001b[0m\u001b[1;33m)\u001b[0m\u001b[1;33m:\u001b[0m\u001b[1;33m\u001b[0m\u001b[1;33m\u001b[0m\u001b[0m\n\u001b[1;32m--> 187\u001b[1;33m         \u001b[0mcall\u001b[0m \u001b[1;33m=\u001b[0m \u001b[1;32mlambda\u001b[0m \u001b[0mf\u001b[0m\u001b[1;33m,\u001b[0m \u001b[1;33m*\u001b[0m\u001b[0ma\u001b[0m\u001b[1;33m,\u001b[0m \u001b[1;33m**\u001b[0m\u001b[0mk\u001b[0m\u001b[1;33m:\u001b[0m \u001b[0mf\u001b[0m\u001b[1;33m(\u001b[0m\u001b[1;33m*\u001b[0m\u001b[0ma\u001b[0m\u001b[1;33m,\u001b[0m \u001b[1;33m**\u001b[0m\u001b[0mk\u001b[0m\u001b[1;33m)\u001b[0m\u001b[1;33m\u001b[0m\u001b[1;33m\u001b[0m\u001b[0m\n\u001b[0m\u001b[0;32m    188\u001b[0m \u001b[1;33m\u001b[0m\u001b[0m\n\u001b[0;32m    189\u001b[0m         \u001b[1;32mif\u001b[0m \u001b[0mcallable\u001b[0m\u001b[1;33m(\u001b[0m\u001b[0marg\u001b[0m\u001b[1;33m)\u001b[0m\u001b[1;33m:\u001b[0m\u001b[1;33m\u001b[0m\u001b[1;33m\u001b[0m\u001b[0m\n",
      "\u001b[1;32m~\\Anaconda3\\envs\\drivenData3\\lib\\site-packages\\IPython\\core\\magics\\osm.py\u001b[0m in \u001b[0;36mwritefile\u001b[1;34m(self, line, cell)\u001b[0m\n\u001b[0;32m    854\u001b[0m \u001b[1;33m\u001b[0m\u001b[0m\n\u001b[0;32m    855\u001b[0m         \u001b[0mmode\u001b[0m \u001b[1;33m=\u001b[0m \u001b[1;34m'a'\u001b[0m \u001b[1;32mif\u001b[0m \u001b[0margs\u001b[0m\u001b[1;33m.\u001b[0m\u001b[0mappend\u001b[0m \u001b[1;32melse\u001b[0m \u001b[1;34m'w'\u001b[0m\u001b[1;33m\u001b[0m\u001b[1;33m\u001b[0m\u001b[0m\n\u001b[1;32m--> 856\u001b[1;33m         \u001b[1;32mwith\u001b[0m \u001b[0mio\u001b[0m\u001b[1;33m.\u001b[0m\u001b[0mopen\u001b[0m\u001b[1;33m(\u001b[0m\u001b[0mfilename\u001b[0m\u001b[1;33m,\u001b[0m \u001b[0mmode\u001b[0m\u001b[1;33m,\u001b[0m \u001b[0mencoding\u001b[0m\u001b[1;33m=\u001b[0m\u001b[1;34m'utf-8'\u001b[0m\u001b[1;33m)\u001b[0m \u001b[1;32mas\u001b[0m \u001b[0mf\u001b[0m\u001b[1;33m:\u001b[0m\u001b[1;33m\u001b[0m\u001b[1;33m\u001b[0m\u001b[0m\n\u001b[0m\u001b[0;32m    857\u001b[0m             \u001b[0mf\u001b[0m\u001b[1;33m.\u001b[0m\u001b[0mwrite\u001b[0m\u001b[1;33m(\u001b[0m\u001b[0mcell\u001b[0m\u001b[1;33m)\u001b[0m\u001b[1;33m\u001b[0m\u001b[1;33m\u001b[0m\u001b[0m\n",
      "\u001b[1;31mFileNotFoundError\u001b[0m: [Errno 2] No such file or directory: '{submission_dir}/cloud_model.py'"
     ]
    }
   ],
   "source": [
    "%%file {submission_dir}/cloud_model.py\n",
    "from typing import Optional, List\n",
    "\n",
    "import pandas as pd\n",
    "import pytorch_lightning as pl\n",
    "import segmentation_models_pytorch as smp\n",
    "import torch\n",
    "\n",
    "try:\n",
    "    from cloud_dataset import CloudDataset\n",
    "    from losses import intersection_over_union\n",
    "except ImportError:\n",
    "    from benchmark_src.cloud_dataset import CloudDataset\n",
    "    from benchmark_src.losses import intersection_over_union\n",
    "    \n",
    "class CloudModel(pl.LighningModule):\n",
    "    \n",
    "    def __init__(\n",
    "        self,\n",
    "        bands: List[str],\n",
    "        x_train: Optional[pd.DataFrame] = None,\n",
    "        y_train: Optional[pd.DataFrame] = None,\n",
    "        x_val: Optional[pd.DataFrame] = None,\n",
    "        y_val: Optional[pd.DataFrame] = None,\n",
    "        hparams: dict = {},\n",
    "    ):\n",
    "        \"\"\"\n",
    "        Instantiate the CloudModel class based on the pl.LightningModule\n",
    "        (https://pytorch-lightning.readthedocs.io/en/latest/common/lightning_module.html).\n",
    "\n",
    "        Args:\n",
    "            bands (list[str]): Names of the bands provided for each chip\n",
    "            x_train (pd.DataFrame, optional): a dataframe of the training features with a row for each chip.\n",
    "                There must be a column for chip_id, and a column with the path to the TIF for each of bands.\n",
    "                Required for model training\n",
    "            y_train (pd.DataFrame, optional): a dataframe of the training labels with a for each chip\n",
    "                and columns for chip_id and the path to the label TIF with ground truth cloud cover.\n",
    "                Required for model training\n",
    "            x_val (pd.DataFrame, optional): a dataframe of the validation features with a row for each chip.\n",
    "                There must be a column for chip_id, and a column with the path to the TIF for each of bands.\n",
    "                Required for model training\n",
    "            y_val (pd.DataFrame, optional): a dataframe of the validation labels with a for each chip\n",
    "                and columns for chip_id and the path to the label TIF with ground truth cloud cover.\n",
    "                Required for model training\n",
    "            hparams (dict, optional): Dictionary of additional modeling parameters.        \n",
    "        \"\"\"\n",
    "        super().__init__()\n",
    "        self.hparams.update(hparams)\n",
    "        self.save_hyperparameters()\n",
    "        \n",
    "        # required\n",
    "        self.bands = bands\n",
    "        \n",
    "        # optional modeling params\n",
    "        self.backbone = self.hparams.get(\"backbone\", \"resnet34\")\n",
    "        self.weights = self.hparams.get(\"weights\", \"imagenet\")\n",
    "        self.learning_rate = self.hparams.get(\"lr\", 1e-3)\n",
    "        self.patience = self.hparams.get(\"patience\", 4)\n",
    "        self.num_workers = self.hparams.get(\"num_workers\", 2)\n",
    "        self.batch_size = self.hparmas.get(\"batch_size\", 32)\n",
    "        self.gpu = self.hparams.get(\"gpu\", False)\n",
    "        self.transform = None\n",
    "        \n",
    "        # Instantiante datasets, model, and trainer params if provided\n",
    "        self.train_dataset = CloudDatset(\n",
    "            x_paths = x_train,\n",
    "            bands = self.bands,\n",
    "            y_paths = y_train,\n",
    "            transforms = self.transform\n",
    "        )\n",
    "        \n",
    "        self.val_dataset = CloudDataset(\n",
    "            x_path = v_val,\n",
    "            bands = self.bands,\n",
    "            y_paths = y_val,\n",
    "            transforms = None\n",
    "        )\n",
    "        \n",
    "        self.model = self._prepare_model()\n",
    "        \n",
    "    ## Required LightningModule methods ##\n",
    "    \n",
    "    def forward(self, image: torch.Tensor):\n",
    "        # Forward pass\n",
    "        return self.model(image)\n",
    "    \n",
    "    def training_step(self, batch: dict, batch_idx: int):\n",
    "        \"\"\"\n",
    "        Training step.\n",
    "\n",
    "        Args:\n",
    "            batch (dict): dictionary of items from CloudDataset of the form\n",
    "                {'chip_id': list[str], 'chip': list[torch.Tensor], 'label': list[torch.Tensor]}\n",
    "            batch_idx (int): batch number        \n",
    "        \"\"\"\n",
    "        if self.train_dataset.data is None:\n",
    "            raise ValueError(\n",
    "                \"x_train and y_train mus be specified when CloudModel is instantiated to run training\"\n",
    "            )\n",
    "        \n",
    "        # Switch on training mode\n",
    "        self.model.train()\n",
    "        torch.set_grad_enabled(True)\n",
    "        \n",
    "        # Load images and labels\n",
    "        x = batch[\"chip\"]\n",
    "        y = batch[\"label\"].long()\n",
    "        if self.gpu:\n",
    "            x, y = x.cuda(non_blocking = True), y.cuda(non_blocking=True)\n",
    "            \n",
    "        # Forward pass & softmax\n",
    "        preds = self.forward(x)\n",
    "        preds = torch.softmax(preds, dim=1)[:, 1]\n",
    "        preds = (preds > 0.5) * 1 #convert to int\n",
    "        \n",
    "        # Log batch IOU\n",
    "        batch_iou = intersection_over_union(preds, y)\n",
    "        self.log(\n",
    "            \"iou\", batch_iou, on_step=True, on_epoch=True, prog_bar=True, logger=True\n",
    "        )\n",
    "        return batch_iou\n",
    "    \n",
    "    def train_dataloader(self):\n",
    "        #Dataloader class for training\n",
    "        return torch.utils.data.DataLoader(\n",
    "            self.train_dataset,\n",
    "            batch_size = self.batch_size,\n",
    "            num_workers = self.num_workers,\n",
    "            shuffle = True,\n",
    "            pin_memory = True,\n",
    "        )\n",
    "    \n",
    "    def configure_optimizers(self):\n",
    "        opt = torch.optim.Adam(self.model.parameters(), lr=self.learning_rate)\n",
    "        sch = torch.optim.lr_scheduler.CosineAnnealingLR(opt, T_max=10)\n",
    "        return [opt], [sch]\n",
    "    \n",
    "    ## Convenience Methods ##\n",
    "    \n",
    "    def _prepare_model(self):\n",
    "        # Instantiate U-Net model\n",
    "        unet_model = smp.Unet(\n",
    "            encoder_name = self.backbone,\n",
    "            encoder_wights = self.weights,\n",
    "            in_channels = 4,\n",
    "            classes = 2,\n",
    "        )\n",
    "        \n",
    "        if self.gpu:\n",
    "            unet_model.cuda()\n",
    "            \n",
    "        return unet_model"
   ]
  },
  {
   "cell_type": "code",
   "execution_count": null,
   "id": "01c06ac6",
   "metadata": {},
   "outputs": [],
   "source": [
    "from benchmark_src.cloud_model import CloudModel"
   ]
  },
  {
   "cell_type": "markdown",
   "id": "5f5eac52",
   "metadata": {},
   "source": [
    "## Fit the Model"
   ]
  },
  {
   "cell_type": "code",
   "execution_count": 10,
   "id": "3ec42147",
   "metadata": {},
   "outputs": [],
   "source": [
    "import warnings\n",
    "\n",
    "warnings.filterwarnings(\"ignore\")"
   ]
  },
  {
   "cell_type": "code",
   "execution_count": 11,
   "id": "b8952e91",
   "metadata": {},
   "outputs": [
    {
     "ename": "NameError",
     "evalue": "name 'CloudModel' is not defined",
     "output_type": "error",
     "traceback": [
      "\u001b[1;31m---------------------------------------------------------------------------\u001b[0m",
      "\u001b[1;31mNameError\u001b[0m                                 Traceback (most recent call last)",
      "\u001b[1;32m~\\AppData\\Local\\Temp/ipykernel_3124/102686860.py\u001b[0m in \u001b[0;36m<module>\u001b[1;34m\u001b[0m\n\u001b[0;32m      1\u001b[0m \u001b[1;31m# Set up pytorch_lightning.Trainer object\u001b[0m\u001b[1;33m\u001b[0m\u001b[1;33m\u001b[0m\u001b[1;33m\u001b[0m\u001b[0m\n\u001b[1;32m----> 2\u001b[1;33m cloud_model = CloudModel(\n\u001b[0m\u001b[0;32m      3\u001b[0m     \u001b[0mbands\u001b[0m\u001b[1;33m=\u001b[0m\u001b[0mBANDS\u001b[0m\u001b[1;33m,\u001b[0m\u001b[1;33m\u001b[0m\u001b[1;33m\u001b[0m\u001b[0m\n\u001b[0;32m      4\u001b[0m     \u001b[0mx_train\u001b[0m\u001b[1;33m=\u001b[0m\u001b[0mtrain_x\u001b[0m\u001b[1;33m,\u001b[0m\u001b[1;33m\u001b[0m\u001b[1;33m\u001b[0m\u001b[0m\n\u001b[0;32m      5\u001b[0m     \u001b[0my_train\u001b[0m\u001b[1;33m=\u001b[0m\u001b[0mtrain_y\u001b[0m\u001b[1;33m,\u001b[0m\u001b[1;33m\u001b[0m\u001b[1;33m\u001b[0m\u001b[0m\n",
      "\u001b[1;31mNameError\u001b[0m: name 'CloudModel' is not defined"
     ]
    }
   ],
   "source": [
    "# Set up pytorch_lightning.Trainer object\n",
    "cloud_model = CloudModel(\n",
    "    bands=BANDS,\n",
    "    x_train=train_x,\n",
    "    y_train=train_y,\n",
    "    x_val=val_x,\n",
    "    y_val=val_y,\n",
    ")\n",
    "\n",
    "checkpoint_callback = pl.callbacks.ModelCheckpoint(monitor='iou_epoch', mode='max', verbose=True)\n",
    "\n",
    "early_stopping_callback = pl.callbacks.early_stopping.EarlyStopping(\n",
    "    monitor='iou_epoch',\n",
    "    patience=(cloud_model.patience * 3),\n",
    "    mode='max',\n",
    "    vertbose=True,\n",
    ")\n",
    "\n",
    "trainer = pl.Trainer(\n",
    "    gpus=None,\n",
    "    fast_dev_run=False,\n",
    "    callbacks=[checkpoint_callback, early_stopping_callback],\n",
    ")"
   ]
  },
  {
   "cell_type": "code",
   "execution_count": null,
   "id": "19637f30",
   "metadata": {},
   "outputs": [],
   "source": [
    "trainer.fit(model=cloud_model)"
   ]
  },
  {
   "cell_type": "code",
   "execution_count": null,
   "id": "805e0e7d",
   "metadata": {},
   "outputs": [],
   "source": [
    "submission_assets_dir = submission_dir / \"assests\"\n",
    "submission_assets_dir.mkdir(parents=True, exist_ok=True)\n",
    "\n",
    "model_weight_path = submission_assets_dir / \"cloud_model.pt\"\n",
    "torch.save(cloud_model.state_dict(), model_weight_path)"
   ]
  },
  {
   "cell_type": "code",
   "execution_count": null,
   "id": "7546befc",
   "metadata": {},
   "outputs": [],
   "source": [
    "%%file benchmark_src/main.py\n",
    "import os\n",
    "from pathlib import Path\n",
    "from typing import List\n",
    "\n",
    "from loguru import logger\n",
    "import pandas as pd\n",
    "from PIL import Image\n",
    "import torch\n",
    "import typer\n",
    "\n",
    "try:\n",
    "    from cloud_dataset import CloudDataset\n",
    "    from cloud_model import CloudModel\n",
    "except ImportError:\n",
    "    from benchmark_src.cloud_dataset import CloudDataset\n",
    "    from benchmark_src.cloud_model import CloudModel\n",
    "    \n",
    "ROOT_DIRECTORY = Path('/codeexecution')\n",
    "PREDICTIONS_DIRECTORY = ROOT_DIRECTORY / 'predictoins'\n",
    "ASSETS_DIRECTORY = ROOT_DIRECTORY / 'assets'\n",
    "DATA_DIRECTORY = ROOT_DIRECTORY / 'data'\n",
    "INPUT_IMAGES_DIRECTORY = DATA_DIRECTORY / 'test_features'\n",
    "\n",
    "# Set the pytorch cache directory and include cached models in your submission.zip\n",
    "os.environ['TORCH_HOME'] = str(ASSETS_DIRECTORY / 'assets/torch')\n",
    "\n",
    "def get_metadata(features_dir: os.PathLike, bands: List[str]):\n",
    "    \"\"\"\n",
    "    Given a folder of feature data, return a dataframe where the index is the chip id\n",
    "    and there is a column for the path to each band's TIF image.\n",
    "\n",
    "    Args:\n",
    "        features_dir (os.PathLike): path to the directory of feature data, which should have\n",
    "            a folder for each chip\n",
    "        bands (list[str]): list of bands provided for each chip\n",
    "    \"\"\"\n",
    "    chip_metadata = pd.DataFrame(index=[f\"{band}_path\" for band in bands])\n",
    "    chip_ids = (\n",
    "        pth.name for pth in features_dir.iterdir() if not pth.name.startswith('.')\n",
    "    )\n",
    "    \n",
    "    for chip_id in chip_ids:\n",
    "        chip_bands = [features_dir / chip_id / f\"{band}.tif\" for band in bands]\n",
    "        chip_metadata[chip_id] = chip_bands\n",
    "\n",
    "    return chip_metadata.transpose().rest_index().rename(columns={\"index\" : \"chip_id\"})\n",
    "\n",
    "def make_predictoins(\n",
    "    model: CloudModel,\n",
    "    x_paths: pd.DataFrame,\n",
    "    bands: List[str],\n",
    "    predictions_dir: os.PathLike,\n",
    "):\n",
    "    \"\"\"Predicts cloud cover and saves results to the predictions directory.\n",
    "\n",
    "    Args:\n",
    "        model (CloudModel): an instantiated CloudModel based on pl.LightningModule\n",
    "        x_paths (pd.DataFrame): a dataframe with a row for each chip. There must be a column for chip_id,\n",
    "                and a column with the path to the TIF for each of bands provided\n",
    "        bands (list[str]): list of bands provided for each chip\n",
    "        predictions_dir (os.PathLike): Destination directory to save the predicted TIF masks\n",
    "    \"\"\"\n",
    "    test_dataset = CloudDataset(x_path=x_paths, bands=bands)\n",
    "    test_dataloader = torch.utils.data.DataLoader(\n",
    "        test_dataset,\n",
    "        batch_size = model.batch_size,\n",
    "        num_workers = model.num_workers,\n",
    "        shuffle = False,\n",
    "        pin_memory = True,\n",
    "    )\n",
    "    \n",
    "    for batch_index, batch in enumerate(test_dataloader):\n",
    "        logger.debug(f\"Predicting batch {batch_index} of {len(test_dataloader)}\")\n",
    "        x = batch[\"chip\"]\n",
    "        preds = model.forward[x]\n",
    "        preds = torch.softmax(preds, dim=1)[:, 1]\n",
    "        preds = (preds > 0.5).detach().numpy().astype('uint8')\n",
    "        for chip_id, pred in zip(batc['chip_id'], preds):\n",
    "            chip_pred_path = prediction_dir / f\"{chip_id}.tif\"\n",
    "            chip_pred_im = Image.formarray(red)\n",
    "            chip_pred_im.save(chip_pred_path)\n",
    "            \n",
    "def main():\n",
    "    pass"
   ]
  },
  {
   "cell_type": "code",
   "execution_count": null,
   "id": "59c19643",
   "metadata": {},
   "outputs": [],
   "source": []
  }
 ],
 "metadata": {
  "kernelspec": {
   "display_name": "Python 3 (ipykernel)",
   "language": "python",
   "name": "python3"
  },
  "language_info": {
   "codemirror_mode": {
    "name": "ipython",
    "version": 3
   },
   "file_extension": ".py",
   "mimetype": "text/x-python",
   "name": "python",
   "nbconvert_exporter": "python",
   "pygments_lexer": "ipython3",
   "version": "3.7.11"
  }
 },
 "nbformat": 4,
 "nbformat_minor": 5
}
